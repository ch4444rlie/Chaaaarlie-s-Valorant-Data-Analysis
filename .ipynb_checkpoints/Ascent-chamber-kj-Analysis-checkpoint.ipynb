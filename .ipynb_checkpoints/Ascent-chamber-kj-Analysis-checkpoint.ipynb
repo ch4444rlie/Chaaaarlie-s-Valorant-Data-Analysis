{
 "cells": [
  {
   "cell_type": "markdown",
   "metadata": {},
   "source": [
    "# Killjoy  vs. Chamber on Ascent"
   ]
  },
  {
   "cell_type": "markdown",
   "metadata": {},
   "source": [
    "- This notebook analyzes the statistical differences between Killjoy and Chamber\n",
    "- The stats in question are ACS, ADR, Kills, and Kill-Death-Differential\n",
    "- Data was extracted from VCT Stage 2, Group Stage on the Map Ascent\n",
    "- Regions: EMEA, North America, Korea, Brazil, Latan America, Malasia-Singapore\n",
    "- Analysis was done on May 25-26, 2022\n"
   ]
  },
  {
   "cell_type": "code",
   "execution_count": 5,
   "metadata": {},
   "outputs": [],
   "source": [
    "import pandas as pd\n"
   ]
  },
  {
   "cell_type": "code",
   "execution_count": 6,
   "metadata": {},
   "outputs": [],
   "source": [
    "df = pd.read_excel(\"VCT2_chamberkjASCENT.xlsx\")"
   ]
  },
  {
   "cell_type": "code",
   "execution_count": 7,
   "metadata": {},
   "outputs": [],
   "source": [
    "df_kj = df[ df[\"Agent\"] == \"kj\"] # dataframe of killjoy only\n",
    "df_ch = df[ df[\"Agent\"] == \"ch\"] # dataframe of chamber only"
   ]
  },
  {
   "cell_type": "markdown",
   "metadata": {},
   "source": [
    "# Killjoy Statistics"
   ]
  },
  {
   "cell_type": "code",
   "execution_count": 11,
   "metadata": {},
   "outputs": [
    {
     "data": {
      "text/plain": [
       "39"
      ]
     },
     "execution_count": 11,
     "metadata": {},
     "output_type": "execute_result"
    }
   ],
   "source": [
    "# how many times Killjoy played on Ascent\n",
    "len(df_kj) "
   ]
  },
  {
   "cell_type": "code",
   "execution_count": 37,
   "metadata": {},
   "outputs": [
    {
     "data": {
      "text/plain": [
       "ACS    199.0\n",
       "ADR    137.0\n",
       "K       14.0\n",
       "KDD     -1.0\n",
       "dtype: float64"
      ]
     },
     "execution_count": 37,
     "metadata": {},
     "output_type": "execute_result"
    }
   ],
   "source": [
    "# Killjoy median ACS, ADR, Kills, Kill-Death-Differential\n",
    "df_kj.median()"
   ]
  },
  {
   "cell_type": "code",
   "execution_count": 38,
   "metadata": {},
   "outputs": [
    {
     "name": "stdout",
     "output_type": "stream",
     "text": [
      "ACS    213.615385\n",
      "ADR    144.461538\n",
      "K       15.051282\n",
      "KDD      0.487179\n",
      "dtype: float64\n"
     ]
    }
   ],
   "source": [
    "# Killjoy mean ACS, ADR, Kills, Kill-Death-Differential\n",
    "print(df_kj.mean())"
   ]
  },
  {
   "cell_type": "markdown",
   "metadata": {},
   "source": [
    "# Chamber Statistics"
   ]
  },
  {
   "cell_type": "code",
   "execution_count": 39,
   "metadata": {},
   "outputs": [
    {
     "data": {
      "text/plain": [
       "37"
      ]
     },
     "execution_count": 39,
     "metadata": {},
     "output_type": "execute_result"
    }
   ],
   "source": [
    "# how many times Chamber played on Ascent\n",
    "len(df_ch)"
   ]
  },
  {
   "cell_type": "code",
   "execution_count": 23,
   "metadata": {},
   "outputs": [
    {
     "data": {
      "text/plain": [
       "ACS    209.0\n",
       "ADR    140.0\n",
       "K       16.0\n",
       "KDD      2.0\n",
       "dtype: float64"
      ]
     },
     "execution_count": 23,
     "metadata": {},
     "output_type": "execute_result"
    }
   ],
   "source": [
    "# Chamber median ACS, ADR, Kills, Kill-Death-Differential\n",
    "df_ch.median()"
   ]
  },
  {
   "cell_type": "code",
   "execution_count": 60,
   "metadata": {},
   "outputs": [
    {
     "name": "stdout",
     "output_type": "stream",
     "text": [
      "ACS    209.162162\n",
      "ADR    136.864865\n",
      "K       15.324324\n",
      "KDD      1.621622\n",
      "dtype: float64\n"
     ]
    }
   ],
   "source": [
    "# Chamber mean ACS, ADR, Kills, Kill-Death-Differential\n",
    "print(df_ch.mean())\n"
   ]
  },
  {
   "cell_type": "code",
   "execution_count": 51,
   "metadata": {},
   "outputs": [],
   "source": [
    "# Let's make a dataset that drops the top 5 and bottom 5 performances from each Agent\n",
    "kj_alt = df_kj.drop(index = [20,53,3,75,48,  71,69,23,40,56])\n",
    "#kj_alt.sort_values('ACS', ascending=False)\n",
    "ch_alt = df_ch.drop(index = [18,68,35,25,62, 7,38,37,45,57])\n",
    "#ch_alt.sort_values('ACS', ascending=False)"
   ]
  },
  {
   "cell_type": "code",
   "execution_count": 58,
   "metadata": {},
   "outputs": [
    {
     "data": {
      "text/plain": [
       "ACS    210.888889\n",
       "ADR    138.629630\n",
       "K       15.592593\n",
       "KDD      1.814815\n",
       "dtype: float64"
      ]
     },
     "execution_count": 58,
     "metadata": {},
     "output_type": "execute_result"
    }
   ],
   "source": [
    "ch_alt.mean()"
   ]
  },
  {
   "cell_type": "code",
   "execution_count": 59,
   "metadata": {},
   "outputs": [
    {
     "data": {
      "text/plain": [
       "ACS    207.000000\n",
       "ADR    142.137931\n",
       "K       15.068966\n",
       "KDD     -0.034483\n",
       "dtype: float64"
      ]
     },
     "execution_count": 59,
     "metadata": {},
     "output_type": "execute_result"
    }
   ],
   "source": [
    "kj_alt.mean()"
   ]
  },
  {
   "cell_type": "markdown",
   "metadata": {},
   "source": [
    "# Chaaaarlie's Conclusion\n",
    "\n",
    "Median is the best statistic for determining the typical performance of a Chamber or Killjoy\n",
    "because overperformances and underperformances can heavily affect the center of the dataset. \n",
    "\n",
    "\n",
    "After removing the top 5 and bottom 5 performances from each Agent's dataset, we see that Chamber's\n",
    "ACS, Kills, and Kill-Death-Differential are slightly higher than Killjoy's. Killjoy however has a \n",
    "slightly higher ADR. Further statistical testing would need to be done to determine if these\n",
    "differences are significant. \n",
    "\n",
    "One important detail to note is that Chamber's mean stats after dropping is close to Chamber's median stats while Killjoy's mean after dropping is different ffrom Killjoy's median stats. This could be an indicator that Killjoy's data is skewed upward by overperformances"
   ]
  },
  {
   "cell_type": "code",
   "execution_count": null,
   "metadata": {},
   "outputs": [],
   "source": []
  }
 ],
 "metadata": {
  "kernelspec": {
   "display_name": "Python 3",
   "language": "python",
   "name": "python3"
  },
  "language_info": {
   "codemirror_mode": {
    "name": "ipython",
    "version": 3
   },
   "file_extension": ".py",
   "mimetype": "text/x-python",
   "name": "python",
   "nbconvert_exporter": "python",
   "pygments_lexer": "ipython3",
   "version": "3.7.3"
  }
 },
 "nbformat": 4,
 "nbformat_minor": 2
}
